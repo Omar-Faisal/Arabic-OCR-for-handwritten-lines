{
 "cells": [
  {
   "cell_type": "code",
   "execution_count": 35,
   "metadata": {},
   "outputs": [],
   "source": [
    "import pandas as pd \n",
    "import matplotlib.pyplot as plt"
   ]
  },
  {
   "cell_type": "code",
   "execution_count": 36,
   "metadata": {},
   "outputs": [],
   "source": [
    "LookupTable = pd.read_csv('Book1.csv')\n",
    "\n",
    "LookupTable['Latin Label ']=LookupTable['Latin Label '].str.strip()\n",
    "LookupTable['Arabic Label ']=LookupTable['Arabic Label '].str.strip()"
   ]
  },
  {
   "cell_type": "code",
   "execution_count": 37,
   "metadata": {},
   "outputs": [],
   "source": [
    "look_dict = LookupTable.set_index('Latin Label ').T.to_dict('records')[0]\n",
    "\n",
    "look_dict['sp'] = ' '"
   ]
  },
  {
   "cell_type": "code",
   "execution_count": 38,
   "metadata": {},
   "outputs": [],
   "source": [
    "with open(\"Groundtruth-Latin-TrainingSet.txt\") as f:\n",
    "    lines = f.readlines()"
   ]
  },
  {
   "cell_type": "code",
   "execution_count": 39,
   "metadata": {},
   "outputs": [],
   "source": [
    "Image = []\n",
    "Text = []\n",
    "for line in lines:\n",
    "    Image.append(line.split()[0].replace('tif','png'))\n",
    "    text = [look_dict[i] for i in line.split()[1:]]\n",
    "    Text.append(''.join(text))"
   ]
  },
  {
   "cell_type": "code",
   "execution_count": 40,
   "metadata": {},
   "outputs": [],
   "source": [
    "Train_Labels = pd.DataFrame(columns=['Image','Text'])\n",
    "Train_Labels['Image'] = Image\n",
    "Train_Labels['Text'] = Text"
   ]
  },
  {
   "cell_type": "code",
   "execution_count": 41,
   "metadata": {},
   "outputs": [],
   "source": [
    "Train_Labels.to_csv('TrainLables.csv')"
   ]
  },
  {
   "cell_type": "code",
   "execution_count": 42,
   "metadata": {},
   "outputs": [],
   "source": [
    "with open(\"Groundtruth-Latin-TestSet.txt\") as f:\n",
    "    lines = f.readlines()"
   ]
  },
  {
   "cell_type": "code",
   "execution_count": 43,
   "metadata": {},
   "outputs": [],
   "source": [
    "Image = []\n",
    "Text = []\n",
    "for line in lines:\n",
    "    Image.append(line.split()[0])\n",
    "    text = [look_dict[i] for i in line.split()[1:]]\n",
    "    Text.append(''.join(text))"
   ]
  },
  {
   "cell_type": "code",
   "execution_count": 44,
   "metadata": {},
   "outputs": [],
   "source": [
    "Test_Labels = pd.DataFrame(columns=['Image','Text'])\n",
    "Test_Labels['Image'] = Image\n",
    "Test_Labels['Text'] = Text"
   ]
  },
  {
   "cell_type": "code",
   "execution_count": 45,
   "metadata": {},
   "outputs": [],
   "source": [
    "Test_Labels.to_csv('TestLabels.csv')"
   ]
  },
  {
   "cell_type": "code",
   "execution_count": 46,
   "metadata": {},
   "outputs": [
    {
     "data": {
      "text/html": [
       "<div>\n",
       "<style scoped>\n",
       "    .dataframe tbody tr th:only-of-type {\n",
       "        vertical-align: middle;\n",
       "    }\n",
       "\n",
       "    .dataframe tbody tr th {\n",
       "        vertical-align: top;\n",
       "    }\n",
       "\n",
       "    .dataframe thead th {\n",
       "        text-align: right;\n",
       "    }\n",
       "</style>\n",
       "<table border=\"1\" class=\"dataframe\">\n",
       "  <thead>\n",
       "    <tr style=\"text-align: right;\">\n",
       "      <th></th>\n",
       "      <th>Unnamed: 0</th>\n",
       "      <th>Image</th>\n",
       "      <th>Text</th>\n",
       "    </tr>\n",
       "  </thead>\n",
       "  <tbody>\n",
       "    <tr>\n",
       "      <th>0</th>\n",
       "      <td>0</td>\n",
       "      <td>AHTD3A0001_Para2_3.png</td>\n",
       "      <td>من العذاب في الآخرة وأفضل ما رزقهم الله تعالى ...</td>\n",
       "    </tr>\n",
       "    <tr>\n",
       "      <th>1</th>\n",
       "      <td>1</td>\n",
       "      <td>AHTD3A0001_Para2_4.png</td>\n",
       "      <td>لجميع الأشياء والذي لا يقدر أحد في الدنيا على ...</td>\n",
       "    </tr>\n",
       "    <tr>\n",
       "      <th>2</th>\n",
       "      <td>2</td>\n",
       "      <td>AHTD3A0001_Para3_1.png</td>\n",
       "      <td>فقال له  إنك في منازل آبائك وأجدادك من الجبابر...</td>\n",
       "    </tr>\n",
       "    <tr>\n",
       "      <th>3</th>\n",
       "      <td>3</td>\n",
       "      <td>AHTD3A0001_Para3_2.png</td>\n",
       "      <td>قبلك وشيدوه دونك وبنوا القلاع والحصون ومهدوا ا...</td>\n",
       "    </tr>\n",
       "    <tr>\n",
       "      <th>4</th>\n",
       "      <td>4</td>\n",
       "      <td>AHTD3A0002_Para2_1.png</td>\n",
       "      <td>وكذلك طالب الآخرة مجتهد في العمل المنجي به روح...</td>\n",
       "    </tr>\n",
       "    <tr>\n",
       "      <th>...</th>\n",
       "      <td>...</td>\n",
       "      <td>...</td>\n",
       "      <td>...</td>\n",
       "    </tr>\n",
       "    <tr>\n",
       "      <th>1395</th>\n",
       "      <td>1395</td>\n",
       "      <td>AHTD3A0438_Para2_3.png</td>\n",
       "      <td>مثل حرة القوس التي قيل إنها كانت ترى كأنها حري...</td>\n",
       "    </tr>\n",
       "    <tr>\n",
       "      <th>1396</th>\n",
       "      <td>1396</td>\n",
       "      <td>AHTD3A0438_Para2_4.png</td>\n",
       "      <td>التي كان يخرج منها ما يشبه البرق ويسمع منها أص...</td>\n",
       "    </tr>\n",
       "    <tr>\n",
       "      <th>1397</th>\n",
       "      <td>1397</td>\n",
       "      <td>AHTD3A0438_Para3_1.png</td>\n",
       "      <td>ولعل قوة نيران حرة ضروان وشدة قذفها للحمم وارت...</td>\n",
       "    </tr>\n",
       "    <tr>\n",
       "      <th>1398</th>\n",
       "      <td>1398</td>\n",
       "      <td>AHTD3A0438_Para3_2.png</td>\n",
       "      <td>اليمن إلى التعبد لها والتحاكم إليها فقد كانوا ...</td>\n",
       "    </tr>\n",
       "    <tr>\n",
       "      <th>1399</th>\n",
       "      <td>1399</td>\n",
       "      <td>AHTD3A0438_Para3_3.png</td>\n",
       "      <td>يحدث عندهم من خلاف والرأي عندهم إن النار تخرج ...</td>\n",
       "    </tr>\n",
       "  </tbody>\n",
       "</table>\n",
       "<p>1400 rows × 3 columns</p>\n",
       "</div>"
      ],
      "text/plain": [
       "      Unnamed: 0                   Image  \\\n",
       "0              0  AHTD3A0001_Para2_3.png   \n",
       "1              1  AHTD3A0001_Para2_4.png   \n",
       "2              2  AHTD3A0001_Para3_1.png   \n",
       "3              3  AHTD3A0001_Para3_2.png   \n",
       "4              4  AHTD3A0002_Para2_1.png   \n",
       "...          ...                     ...   \n",
       "1395        1395  AHTD3A0438_Para2_3.png   \n",
       "1396        1396  AHTD3A0438_Para2_4.png   \n",
       "1397        1397  AHTD3A0438_Para3_1.png   \n",
       "1398        1398  AHTD3A0438_Para3_2.png   \n",
       "1399        1399  AHTD3A0438_Para3_3.png   \n",
       "\n",
       "                                                   Text  \n",
       "0     من العذاب في الآخرة وأفضل ما رزقهم الله تعالى ...  \n",
       "1     لجميع الأشياء والذي لا يقدر أحد في الدنيا على ...  \n",
       "2     فقال له  إنك في منازل آبائك وأجدادك من الجبابر...  \n",
       "3     قبلك وشيدوه دونك وبنوا القلاع والحصون ومهدوا ا...  \n",
       "4     وكذلك طالب الآخرة مجتهد في العمل المنجي به روح...  \n",
       "...                                                 ...  \n",
       "1395  مثل حرة القوس التي قيل إنها كانت ترى كأنها حري...  \n",
       "1396  التي كان يخرج منها ما يشبه البرق ويسمع منها أص...  \n",
       "1397  ولعل قوة نيران حرة ضروان وشدة قذفها للحمم وارت...  \n",
       "1398  اليمن إلى التعبد لها والتحاكم إليها فقد كانوا ...  \n",
       "1399  يحدث عندهم من خلاف والرأي عندهم إن النار تخرج ...  \n",
       "\n",
       "[1400 rows x 3 columns]"
      ]
     },
     "execution_count": 46,
     "metadata": {},
     "output_type": "execute_result"
    }
   ],
   "source": [
    "pd.read_csv('TrainLables.csv')"
   ]
  },
  {
   "cell_type": "code",
   "execution_count": 47,
   "metadata": {},
   "outputs": [],
   "source": [
    "tr_len = [len(k) for k in Train_Labels['Text']]"
   ]
  },
  {
   "cell_type": "code",
   "execution_count": 48,
   "metadata": {},
   "outputs": [
    {
     "name": "stdout",
     "output_type": "stream",
     "text": [
      "Maximum label length in the training set 128\n"
     ]
    },
    {
     "data": {
      "image/png": "[encoded data removed]",
      "text/plain": [
       "<Figure size 432x288 with 1 Axes>"
      ]
     },
     "metadata": {
      "needs_background": "light"
     },
     "output_type": "display_data"
    }
   ],
   "source": [
    "plt.figure()\n",
    "plt.title('Length of lines distibution for the training set')\n",
    "plt.xlabel('number of chars')\n",
    "plt.ylabel('numbers of labels')\n",
    "plt.hist(tr_len,bins=5)\n",
    "# exploring the longest lines length\n",
    "print('Maximum label length in the training set',str(max(tr_len)))"
   ]
  },
  {
   "cell_type": "code",
   "execution_count": 49,
   "metadata": {},
   "outputs": [],
   "source": [
    "ts_len = [len(k) for k in Test_Labels['Text']]"
   ]
  },
  {
   "cell_type": "code",
   "execution_count": 50,
   "metadata": {},
   "outputs": [
    {
     "name": "stdout",
     "output_type": "stream",
     "text": [
      "Maximum label length in the test set 97\n"
     ]
    },
    {
     "data": {
      "image/png": "[encoded data removed]",
      "text/plain": [
       "<Figure size 432x288 with 1 Axes>"
      ]
     },
     "metadata": {
      "needs_background": "light"
     },
     "output_type": "display_data"
    }
   ],
   "source": [
    "plt.figure()\n",
    "plt.title('Length of lines distibution for the test set')\n",
    "plt.xlabel('number of chars')\n",
    "plt.ylabel('numbers of labels')\n",
    "plt.hist(ts_len,bins=5)\n",
    "\n",
    "\n",
    "print('Maximum label length in the test set',str(max(ts_len)))"
   ]
  }
 ],
 "metadata": {
  "kernelspec": {
   "display_name": "Python 3",
   "language": "python",
   "name": "python3"
  },
  "language_info": {
   "codemirror_mode": {
    "name": "ipython",
    "version": 3
   },
   "file_extension": ".py",
   "mimetype": "text/x-python",
   "name": "python",
   "nbconvert_exporter": "python",
   "pygments_lexer": "ipython3",
   "version": "3.8.5"
  }
 },
 "nbformat": 4,
 "nbformat_minor": 4
}
