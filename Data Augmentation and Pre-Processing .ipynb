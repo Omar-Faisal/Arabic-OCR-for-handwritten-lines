{
 "cells": [
  {
   "cell_type": "code",
   "execution_count": 236,
   "metadata": {},
   "outputs": [],
   "source": [
    "# pip install --upgrade imutils\n"
   ]
  },
  {
   "cell_type": "code",
   "execution_count": 4,
   "metadata": {},
   "outputs": [],
   "source": [
    "import pandas as pd\n",
    "import cv2\n",
    "import glob\n",
    "import matplotlib.pyplot as plt\n",
    "import imutils\n",
    "from imutils.contours import sort_contours\n",
    "import numpy as np\n",
    "from PIL import Image\n",
    "import os\n",
    "\n"
   ]
  },
  {
   "cell_type": "code",
   "execution_count": 5,
   "metadata": {},
   "outputs": [
    {
     "data": {
      "text/html": [
       "<div>\n",
       "<style scoped>\n",
       "    .dataframe tbody tr th:only-of-type {\n",
       "        vertical-align: middle;\n",
       "    }\n",
       "\n",
       "    .dataframe tbody tr th {\n",
       "        vertical-align: top;\n",
       "    }\n",
       "\n",
       "    .dataframe thead th {\n",
       "        text-align: right;\n",
       "    }\n",
       "</style>\n",
       "<table border=\"1\" class=\"dataframe\">\n",
       "  <thead>\n",
       "    <tr style=\"text-align: right;\">\n",
       "      <th></th>\n",
       "      <th>Image</th>\n",
       "      <th>Text</th>\n",
       "    </tr>\n",
       "  </thead>\n",
       "  <tbody>\n",
       "    <tr>\n",
       "      <th>0</th>\n",
       "      <td>AHTD3A0001_Para2_3.png</td>\n",
       "      <td>من العذاب في الآخرة وأفضل ما رزقهم الله تعالى ...</td>\n",
       "    </tr>\n",
       "    <tr>\n",
       "      <th>1</th>\n",
       "      <td>AHTD3A0001_Para2_4.png</td>\n",
       "      <td>لجميع الأشياء والذي لا يقدر أحد في الدنيا على ...</td>\n",
       "    </tr>\n",
       "    <tr>\n",
       "      <th>2</th>\n",
       "      <td>AHTD3A0001_Para3_1.png</td>\n",
       "      <td>فقال له  إنك في منازل آبائك وأجدادك من الجبابر...</td>\n",
       "    </tr>\n",
       "    <tr>\n",
       "      <th>3</th>\n",
       "      <td>AHTD3A0001_Para3_2.png</td>\n",
       "      <td>قبلك وشيدوه دونك وبنوا القلاع والحصون ومهدوا ا...</td>\n",
       "    </tr>\n",
       "    <tr>\n",
       "      <th>4</th>\n",
       "      <td>AHTD3A0002_Para2_1.png</td>\n",
       "      <td>وكذلك طالب الآخرة مجتهد في العمل المنجي به روح...</td>\n",
       "    </tr>\n",
       "  </tbody>\n",
       "</table>\n",
       "</div>"
      ],
      "text/plain": [
       "                    Image                                               Text\n",
       "0  AHTD3A0001_Para2_3.png  من العذاب في الآخرة وأفضل ما رزقهم الله تعالى ...\n",
       "1  AHTD3A0001_Para2_4.png  لجميع الأشياء والذي لا يقدر أحد في الدنيا على ...\n",
       "2  AHTD3A0001_Para3_1.png  فقال له  إنك في منازل آبائك وأجدادك من الجبابر...\n",
       "3  AHTD3A0001_Para3_2.png  قبلك وشيدوه دونك وبنوا القلاع والحصون ومهدوا ا...\n",
       "4  AHTD3A0002_Para2_1.png  وكذلك طالب الآخرة مجتهد في العمل المنجي به روح..."
      ]
     },
     "execution_count": 5,
     "metadata": {},
     "output_type": "execute_result"
    }
   ],
   "source": [
    "TrainSet = pd.read_csv(\"TrainLables.csv\").drop(['Unnamed: 0'],axis=1)\n",
    "TestSet = pd.read_csv(\"TestLabels.csv\").drop(['Unnamed: 0'],axis=1)\n",
    "\n",
    "TrainSet.head()"
   ]
  },
  {
   "cell_type": "code",
   "execution_count": 6,
   "metadata": {},
   "outputs": [],
   "source": [
    "Train_Images = [cv2.imread('Line Images/'+Name) for Name in TrainSet['Image']]\n",
    "Test_Images = [cv2.imread('Line Images/'+Name) for Name in TestSet['Image']]\n"
   ]
  },
  {
   "cell_type": "code",
   "execution_count": 7,
   "metadata": {},
   "outputs": [],
   "source": [
    "Train_Labels = TrainSet['Text']\n",
    "Test_Labels = TestSet['Text']\n"
   ]
  },
  {
   "cell_type": "code",
   "execution_count": 8,
   "metadata": {},
   "outputs": [],
   "source": [
    "def augment_image(img,label):\n",
    "    # Making directory for saving the augmented images along with the original image\n",
    "    \n",
    "    dirname = 'AugmentedImages'\n",
    "    os.makedirs('AugmentedImages', exist_ok=True)  \n",
    "    #Saving the original Image\n",
    "    path0 = 'AugmentedImages/' + label\n",
    "    cv2.imwrite(path0,img)\n",
    "    \n",
    "    #saving the blurred image\n",
    "    blurred = cv2.GaussianBlur(img,(91,91),cv2.BORDER_DEFAULT)\n",
    "    path1 = 'AugmentedImages/blurred' +label\n",
    "    cv2.imwrite(path1,blurred)\n",
    "    \n",
    "    #saving the edged image\n",
    "    edged = cv2.Canny(blurred, 30, 150)\n",
    "    path2 = 'AugmentedImages/edged' +label\n",
    "    cv2.imwrite(path2,edged)\n",
    "    \n",
    "    #saving the bleed through enhanced img\n",
    "    \n",
    "    dst = cv2.fastNlMeansDenoisingColored(img,None,100,100,7,21)\n",
    "    path3 = 'AugmentedImages/bte' +label\n",
    "    cv2.imwrite(path3,dst)\n",
    "    \n",
    "    #saving the 25% resolution off\n",
    "    \n",
    "    PIL_image = Image.fromarray(np.uint8(img)).convert('RGB')\n",
    "    \n",
    "    path4 = 'AugmentedImages/lq' +label\n",
    "    PIL_image.save(path4, quality=75)\n",
    "    \n",
    "    #saving the contoured version of the text line\n",
    "    \n",
    "    gray = cv2.cvtColor(img, cv2.COLOR_BGR2GRAY)  \n",
    "\n",
    "    #--- performing Otsu threshold ---\n",
    "    ret,thresh1 = cv2.threshold(gray, 0, 255,cv2.THRESH_OTSU|cv2.THRESH_BINARY_INV)\n",
    "\n",
    "    #--- choosing the right kernel\n",
    "    #--- kernel size of 3 rows (to join dots above letters 'i' and 'j')\n",
    "    #--- and 10 columns to join neighboring letters in words and neighboring words\n",
    "    rect_kernel = cv2.getStructuringElement(cv2.MORPH_RECT, (70, 20))\n",
    "    dilation = cv2.dilate(thresh1, rect_kernel, iterations = 1)\n",
    "    contours, hierarchy = cv2.findContours(dilation, cv2.RETR_EXTERNAL, cv2.CHAIN_APPROX_NONE)\n",
    "\n",
    "    im2 = img.copy()\n",
    "    for cnt in contours:\n",
    "            x, y, w, h = cv2.boundingRect(cnt)\n",
    "            if w>100 and h>30:\n",
    "                cv2.rectangle(im2, (x, y), (x + w, y + h), (0, 255, 0), 3)    \n",
    "    \n",
    "    path5 = 'AugmentedImages/contoured' +label\n",
    "    cv2.imwrite(path5,im2)"
   ]
  },
  {
   "cell_type": "code",
   "execution_count": 9,
   "metadata": {},
   "outputs": [],
   "source": [
    "for i in range(len(Train_Images)):\n",
    "    augment_image(Train_Images[i],TrainSet['Image'][i])"
   ]
  }
 ],
 "metadata": {
  "kernelspec": {
   "display_name": "Python 3",
   "language": "python",
   "name": "python3"
  },
  "language_info": {
   "codemirror_mode": {
    "name": "ipython",
    "version": 3
   },
   "file_extension": ".py",
   "mimetype": "text/x-python",
   "name": "python",
   "nbconvert_exporter": "python",
   "pygments_lexer": "ipython3",
   "version": "3.8.5"
  }
 },
 "nbformat": 4,
 "nbformat_minor": 4
}
